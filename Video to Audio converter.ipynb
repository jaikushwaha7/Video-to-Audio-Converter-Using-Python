{
 "cells": [
  {
   "cell_type": "code",
   "execution_count": 2,
   "metadata": {},
   "outputs": [
    {
     "name": "stdout",
     "output_type": "stream",
     "text": [
      "Enter Youtube video URL: https://www.youtube.com/watch?v=EAp6M8Ln4Ug&list=RDyRh-dzrI4Z4&index=18\n"
     ]
    }
   ],
   "source": [
    "from pytube import YouTube\n",
    "import pytube\n",
    "import os\n",
    "\n",
    "def main():\n",
    "    video_url = input('Enter Youtube video URL: ')\n",
    "    \n",
    "    if os.name=='nt':\n",
    "        path=os.getcwd()+'\\\\'\n",
    "    else:\n",
    "        path=os.getcwd()+'/'\n",
    "        \n",
    "    name = pytube.extract.video_id(video_url)\n",
    "    YouTube(video_url).streams.filter(only_audio=True).first().download(filename=name)\n",
    "    location=path+name+'.mp4'\n",
    "    renametomp3=path+name+'.mp3'\n",
    "    \n",
    "    if os.name=='nt':\n",
    "        os.system('ren{0}{1}'.format(location, renametomp3))\n",
    "    else:\n",
    "        os.system('mv{0}{1}'.format(location, renametomp3))\n",
    "        \n",
    "if __name__=='__main__':\n",
    "    main()"
   ]
  },
  {
   "cell_type": "code",
   "execution_count": null,
   "metadata": {},
   "outputs": [],
   "source": []
  },
  {
   "cell_type": "code",
   "execution_count": null,
   "metadata": {},
   "outputs": [],
   "source": []
  },
  {
   "cell_type": "code",
   "execution_count": null,
   "metadata": {},
   "outputs": [],
   "source": []
  },
  {
   "cell_type": "code",
   "execution_count": null,
   "metadata": {},
   "outputs": [],
   "source": []
  },
  {
   "cell_type": "code",
   "execution_count": null,
   "metadata": {},
   "outputs": [],
   "source": []
  },
  {
   "cell_type": "code",
   "execution_count": null,
   "metadata": {},
   "outputs": [],
   "source": []
  },
  {
   "cell_type": "code",
   "execution_count": null,
   "metadata": {},
   "outputs": [],
   "source": []
  }
 ],
 "metadata": {
  "kernelspec": {
   "display_name": "python3.7",
   "language": "python",
   "name": "python3.7"
  },
  "language_info": {
   "codemirror_mode": {
    "name": "ipython",
    "version": 3
   },
   "file_extension": ".py",
   "mimetype": "text/x-python",
   "name": "python",
   "nbconvert_exporter": "python",
   "pygments_lexer": "ipython3",
   "version": "3.7.6"
  }
 },
 "nbformat": 4,
 "nbformat_minor": 4
}
